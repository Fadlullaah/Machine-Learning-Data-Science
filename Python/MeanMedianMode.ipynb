{
 "cells": [
  {
   "cell_type": "markdown",
   "metadata": {},
   "source": [
    "# Mean, Median, Mode, and introducing NumPy"
   ]
  },
  {
   "cell_type": "markdown",
   "metadata": {},
   "source": [
    "## Mean vs. Median"
   ]
  },
  {
   "cell_type": "markdown",
   "metadata": {},
   "source": [
    "Let's create some fake income data, centered around 27,000 with a normal distribution and standard deviation of 15,000, with 10,000 data points. (We'll discuss those terms more later, if you're not familiar with them.)\n",
    "\n",
    "Then, compute the mean (average) - it should be close to 27,000:"
   ]
  },
  {
   "cell_type": "code",
   "execution_count": 1,
   "metadata": {
    "collapsed": false
   },
   "outputs": [
    {
     "data": {
      "text/plain": [
       "26845.342597059946"
      ]
     },
     "execution_count": 1,
     "metadata": {},
     "output_type": "execute_result"
    }
   ],
   "source": [
    "import numpy as np\n",
    "\n",
    "incomes = np.random.normal(27000, 15000, 10000)\n",
    "np.mean(incomes)"
   ]
  },
  {
   "cell_type": "markdown",
   "metadata": {},
   "source": [
    "We can segment the income data into 50 buckets, and plot it as a histogram:"
   ]
  },
  {
   "cell_type": "code",
   "execution_count": 2,
   "metadata": {
    "collapsed": false
   },
   "outputs": [
    {
     "data": {
      "image/png": "[encoded data removed]",
      "text/plain": [
       "<matplotlib.figure.Figure at 0xbe5ffb1208>"
      ]
     },
     "metadata": {},
     "output_type": "display_data"
    }
   ],
   "source": [
    "%matplotlib inline\n",
    "import matplotlib.pyplot as plt\n",
    "plt.hist(incomes, 50)\n",
    "plt.show()"
   ]
  },
  {
   "cell_type": "markdown",
   "metadata": {},
   "source": [
    "Now compute the median - since we have a nice, even distribution it too should be close to 27,000:"
   ]
  },
  {
   "cell_type": "code",
   "execution_count": 3,
   "metadata": {
    "collapsed": false
   },
   "outputs": [
    {
     "data": {
      "text/plain": [
       "26846.111465008351"
      ]
     },
     "execution_count": 3,
     "metadata": {},
     "output_type": "execute_result"
    }
   ],
   "source": [
    "np.median(incomes)"
   ]
  },
  {
   "cell_type": "markdown",
   "metadata": {},
   "source": [
    "Now we'll add Jeff Bezos into the mix. Darn income inequality!"
   ]
  },
  {
   "cell_type": "code",
   "execution_count": 4,
   "metadata": {
    "collapsed": true
   },
   "outputs": [],
   "source": [
    "incomes = np.append(incomes, [1000000000])"
   ]
  },
  {
   "cell_type": "markdown",
   "metadata": {},
   "source": [
    "The median won't change much, but the mean does:"
   ]
  },
  {
   "cell_type": "code",
   "execution_count": 5,
   "metadata": {
    "collapsed": false
   },
   "outputs": [
    {
     "data": {
      "text/plain": [
       "26851.122333586365"
      ]
     },
     "execution_count": 5,
     "metadata": {},
     "output_type": "execute_result"
    }
   ],
   "source": [
    "np.median(incomes)"
   ]
  },
  {
   "cell_type": "code",
   "execution_count": 6,
   "metadata": {
    "collapsed": false
   },
   "outputs": [
    {
     "data": {
      "text/plain": [
       "126832.65933112682"
      ]
     },
     "execution_count": 6,
     "metadata": {},
     "output_type": "execute_result"
    }
   ],
   "source": [
    "np.mean(incomes)"
   ]
  },
  {
   "cell_type": "markdown",
   "metadata": {},
   "source": [
    "## Mode"
   ]
  },
  {
   "cell_type": "markdown",
   "metadata": {},
   "source": [
    "Next, let's generate some fake age data for 500 people:"
   ]
  },
  {
   "cell_type": "code",
   "execution_count": 7,
   "metadata": {
    "collapsed": false
   },
   "outputs": [
    {
     "data": {
      "text/plain": [
       "array([48, 52, 64, 34, 51, 20, 22, 89, 31, 63, 49, 36, 83, 81, 61, 46, 18,\n",
       "       74, 62, 59, 36, 32, 53, 86, 59, 86, 24, 59, 26, 30, 89, 70, 76, 47,\n",
       "       51, 51, 52, 78, 21, 43, 86, 54, 67, 27, 46, 31, 22, 83, 60, 31, 85,\n",
       "       48, 53, 60, 55, 21, 61, 29, 74, 55, 86, 65, 89, 75, 36, 81, 56, 45,\n",
       "       73, 35, 51, 45, 43, 49, 49, 67, 62, 36, 22, 28, 25, 69, 48, 78, 29,\n",
       "       29, 44, 86, 49, 64, 42, 84, 64, 41, 83, 64, 33, 53, 52, 69, 46, 31,\n",
       "       35, 88, 74, 26, 46, 88, 19, 28, 55, 73, 87, 82, 56, 69, 56, 70, 57,\n",
       "       45, 47, 35, 63, 62, 50, 30, 77, 33, 47, 30, 84, 34, 86, 23, 20, 45,\n",
       "       23, 24, 46, 60, 36, 20, 23, 69, 89, 54, 71, 87, 79, 20, 88, 76, 82,\n",
       "       46, 74, 61, 83, 52, 54, 36, 81, 72, 69, 77, 38, 70, 35, 59, 22, 24,\n",
       "       52, 85, 34, 29, 42, 34, 39, 56, 30, 39, 41, 59, 76, 84, 78, 41, 57,\n",
       "       55, 74, 69, 85, 25, 45, 39, 23, 62, 30, 69, 22, 26, 42, 56, 37, 33,\n",
       "       35, 71, 55, 61, 86, 71, 75, 54, 78, 77, 44, 89, 38, 80, 58, 84, 44,\n",
       "       88, 46, 36, 60, 83, 29, 61, 81, 86, 77, 71, 42, 55, 77, 78, 34, 39,\n",
       "       68, 83, 37, 54, 76, 38, 21, 32, 52, 61, 50, 19, 74, 84, 55, 80, 36,\n",
       "       19, 67, 34, 78, 68, 44, 56, 36, 75, 44, 89, 72, 68, 53, 24, 52, 79,\n",
       "       47, 47, 84, 80, 86, 29, 20, 29, 60, 27, 54, 75, 24, 86, 73, 62, 28,\n",
       "       60, 25, 21, 59, 41, 83, 20, 74, 89, 62, 20, 74, 79, 66, 75, 18, 50,\n",
       "       18, 79, 67, 48, 87, 52, 18, 83, 87, 76, 39, 85, 37, 53, 18, 81, 72,\n",
       "       34, 79, 81, 21, 80, 22, 47, 35, 46, 33, 54, 45, 84, 39, 19, 84, 79,\n",
       "       55, 47, 50, 82, 77, 44, 60, 81, 82, 25, 70, 43, 43, 48, 39, 29, 86,\n",
       "       35, 43, 85, 54, 76, 43, 44, 80, 52, 47, 51, 24, 78, 53, 46, 46, 45,\n",
       "       76, 42, 25, 79, 87, 46, 65, 86, 84, 69, 52, 34, 35, 79, 50, 33, 73,\n",
       "       76, 50, 46, 68, 36, 39, 33, 48, 58, 62, 20, 57, 40, 21, 55, 88, 56,\n",
       "       71, 68, 29, 59, 71, 85, 70, 64, 87, 29, 34, 19, 22, 47, 41, 25, 40,\n",
       "       19, 51, 85, 78, 84, 38, 53, 56, 72, 30, 29, 73, 48, 50, 45, 37, 87,\n",
       "       53, 27, 50, 45, 24, 18, 37, 75, 73, 67, 81, 26, 84, 34, 29, 46, 36,\n",
       "       82, 23, 20, 26, 33, 37, 42, 53, 82, 68, 61, 77, 46, 22, 54, 73, 65,\n",
       "       58, 29, 74, 64, 40, 45, 38, 18, 54, 29, 50, 23, 33, 54, 52, 21, 61,\n",
       "       87, 50, 33, 82, 32, 84, 63])"
      ]
     },
     "execution_count": 7,
     "metadata": {},
     "output_type": "execute_result"
    }
   ],
   "source": [
    "ages = np.random.randint(18, high=90, size=500)\n",
    "ages"
   ]
  },
  {
   "cell_type": "code",
   "execution_count": 8,
   "metadata": {
    "collapsed": false
   },
   "outputs": [
    {
     "data": {
      "text/plain": [
       "ModeResult(mode=array([29]), count=array([14]))"
      ]
     },
     "execution_count": 8,
     "metadata": {},
     "output_type": "execute_result"
    }
   ],
   "source": [
    "from scipy import stats\n",
    "stats.mode(ages)"
   ]
  },
  {
   "cell_type": "code",
   "execution_count": null,
   "metadata": {
    "collapsed": true
   },
   "outputs": [],
   "source": []
  }
 ],
 "metadata": {
  "anaconda-cloud": {},
  "kernelspec": {
   "display_name": "Python [default]",
   "language": "python",
   "name": "python3"
  },
  "language_info": {
   "codemirror_mode": {
    "name": "ipython",
    "version": 3
   },
   "file_extension": ".py",
   "mimetype": "text/x-python",
   "name": "python",
   "nbconvert_exporter": "python",
   "pygments_lexer": "ipython3",
   "version": "3.5.2"
  }
 },
 "nbformat": 4,
 "nbformat_minor": 1
}
